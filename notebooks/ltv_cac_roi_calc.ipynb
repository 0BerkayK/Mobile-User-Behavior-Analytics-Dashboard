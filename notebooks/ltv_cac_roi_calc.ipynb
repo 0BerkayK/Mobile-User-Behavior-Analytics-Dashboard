{
 "cells": [
  {
   "cell_type": "code",
   "execution_count": 1,
   "id": "418df6b9-f508-4435-b356-08c14f13aff2",
   "metadata": {},
   "outputs": [],
   "source": [
    "import pandas as pd"
   ]
  },
  {
   "cell_type": "code",
   "execution_count": 2,
   "id": "eb0bef84-a88b-48ce-8fcf-6ca497115fdf",
   "metadata": {},
   "outputs": [],
   "source": [
    "users = pd.read_csv('../data/users.csv')\n",
    "events = pd.read_csv('../data/events.csv')\n",
    "campaigns = pd.read_csv('../data/campaigns.csv')"
   ]
  },
  {
   "cell_type": "markdown",
   "id": "3fa32563-3ea7-4aea-9158-f50c9620bd05",
   "metadata": {},
   "source": [
    "## LTV (Lifetime Value)"
   ]
  },
  {
   "cell_type": "markdown",
   "id": "5a4b4d9f-345a-45a5-8758-1fc33c4ca730",
   "metadata": {},
   "source": [
    "* LTV = (Total Revenue) / (Number of Users from the Campaign)"
   ]
  },
  {
   "cell_type": "markdown",
   "id": "e0f3cc89-15fd-46a3-9329-e14aadacfc03",
   "metadata": {},
   "source": [
    "## CAC (Customer Acquisition Cost)"
   ]
  },
  {
   "cell_type": "markdown",
   "id": "8c457009-cf02-47d3-93c1-1ca62150ceb5",
   "metadata": {},
   "source": [
    "* CAC = (Campaign Cost) / (Number of users coming from that campaign)"
   ]
  },
  {
   "cell_type": "markdown",
   "id": "766c7672-70b0-4791-8499-da213bb5ae8e",
   "metadata": {},
   "source": [
    "## ROI (Return on Investment)"
   ]
  },
  {
   "cell_type": "markdown",
   "id": "fa6897fe-d6a1-4132-b1f7-c1982b500483",
   "metadata": {},
   "source": [
    "* ROI = (Total Revenue - Cost) / Cost\n",
    "    = (LTV - CAC) / CAC\n"
   ]
  },
  {
   "cell_type": "code",
   "execution_count": 10,
   "id": "69e98f29-d4bc-4f81-bf47-cf0db1547777",
   "metadata": {},
   "outputs": [],
   "source": [
    "# Filter only purchase events\n",
    "purchases = events[events['event_name'] == 'purchase']"
   ]
  },
  {
   "cell_type": "code",
   "execution_count": 11,
   "id": "6160349a-f729-4df6-bf98-f5f4d254b5e9",
   "metadata": {},
   "outputs": [],
   "source": [
    "# User-campaign matching\n",
    "user_campaign = users[['user_id', 'campaign_id']]\n",
    "purchase_data = purchases.merge(user_campaign, on='user_id')"
   ]
  },
  {
   "cell_type": "code",
   "execution_count": 12,
   "id": "192b2505-549d-4529-93f1-12909e715f93",
   "metadata": {},
   "outputs": [],
   "source": [
    "agg = purchase_data.groupby('campaign_id').agg(\n",
    "    total_revenue=('value', 'sum'),\n",
    "    users=('user_id', 'nunique')\n",
    ").reset_index()"
   ]
  },
  {
   "cell_type": "code",
   "execution_count": 13,
   "id": "aae57618-2a39-4528-88be-e82a208d075e",
   "metadata": {},
   "outputs": [],
   "source": [
    "agg = agg.merge(campaigns[['campaign_id', 'cost']], on='campaign_id')"
   ]
  },
  {
   "cell_type": "code",
   "execution_count": 14,
   "id": "5ae94a52-83aa-46ac-8e3e-8ad1c0b08825",
   "metadata": {},
   "outputs": [],
   "source": [
    "# Calculation\n",
    "agg['LTV'] = agg['total_revenue'] / agg['users']\n",
    "agg['CAC'] = agg['cost'] / agg['users']\n",
    "agg['ROI'] = (agg['LTV'] - agg['CAC']) / agg['CAC']"
   ]
  },
  {
   "cell_type": "code",
   "execution_count": 15,
   "id": "5e156804-6723-4215-880c-6cea5d95074e",
   "metadata": {},
   "outputs": [
    {
     "name": "stdout",
     "output_type": "stream",
     "text": [
      "LTV / CAC / ROI calculated and saved as campaign_analysis.csv.\n"
     ]
    }
   ],
   "source": [
    "# Save\n",
    "agg.to_csv('../data/campaign_analysis.csv', index=False)\n",
    "print(\"LTV / CAC / ROI calculated and saved as campaign_analysis.csv.\")"
   ]
  },
  {
   "cell_type": "code",
   "execution_count": null,
   "id": "a4b8e3bd-b562-48e5-8c42-e8c39afc34bc",
   "metadata": {},
   "outputs": [],
   "source": []
  }
 ],
 "metadata": {
  "kernelspec": {
   "display_name": "Python 3 (ipykernel)",
   "language": "python",
   "name": "python3"
  },
  "language_info": {
   "codemirror_mode": {
    "name": "ipython",
    "version": 3
   },
   "file_extension": ".py",
   "mimetype": "text/x-python",
   "name": "python",
   "nbconvert_exporter": "python",
   "pygments_lexer": "ipython3",
   "version": "3.12.7"
  }
 },
 "nbformat": 4,
 "nbformat_minor": 5
}
