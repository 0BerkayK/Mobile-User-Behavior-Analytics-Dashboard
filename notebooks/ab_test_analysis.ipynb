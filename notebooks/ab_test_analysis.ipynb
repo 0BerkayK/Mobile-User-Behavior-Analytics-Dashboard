{
 "cells": [
  {
   "cell_type": "code",
   "execution_count": 1,
   "id": "2b3d0230-7fba-4035-824f-6bf70c54b9a4",
   "metadata": {},
   "outputs": [],
   "source": [
    "import pandas as pd\n",
    "from scipy.stats import chi2_contingency"
   ]
  },
  {
   "cell_type": "code",
   "execution_count": 2,
   "id": "dcd67769-6d62-41a3-8d6c-9450374fd396",
   "metadata": {},
   "outputs": [],
   "source": [
    "# Load the data\n",
    "events = pd.read_csv('../data/events_ab.csv')"
   ]
  },
  {
   "cell_type": "code",
   "execution_count": 3,
   "id": "cb69af42-a313-414b-80ca-6c7e378f1272",
   "metadata": {},
   "outputs": [],
   "source": [
    "# Let's check if each user makes a purchase only once\n",
    "\n",
    "pivot = events.pivot_table(index='user_id', columns='event_name', values='event_time', aggfunc='count').fillna(0)\n",
    "pivot = pivot.reset_index()"
   ]
  },
  {
   "cell_type": "code",
   "execution_count": 4,
   "id": "1d8c28bc-c408-43f5-b8c2-08c9456a4c43",
   "metadata": {},
   "outputs": [],
   "source": [
    "# User's A/B group\n",
    "\n",
    "ab_groups = events[['user_id', 'ab_group']].drop_duplicates()\n",
    "df = pivot.merge(ab_groups, on='user_id')"
   ]
  },
  {
   "cell_type": "code",
   "execution_count": 5,
   "id": "0a688e5d-7a8f-4b73-bc49-b0a1de96f82f",
   "metadata": {},
   "outputs": [
    {
     "name": "stdout",
     "output_type": "stream",
     "text": [
      "          purchases  total  conversion_rate\n",
      "ab_group                                   \n",
      "A              46.0    490         0.093878\n",
      "B              80.0    510         0.156863\n"
     ]
    }
   ],
   "source": [
    "# Number of purchases per group\n",
    "\n",
    "summary = df.groupby('ab_group')['purchase'].agg(['sum', 'count']).rename(columns={'sum': 'purchases', 'count': 'total'})\n",
    "summary['conversion_rate'] = summary['purchases'] / summary['total']\n",
    "print(summary)"
   ]
  },
  {
   "cell_type": "code",
   "execution_count": 6,
   "id": "2c3e4db9-596b-4cfd-9c54-72ee3f21d1b4",
   "metadata": {},
   "outputs": [],
   "source": [
    "# Chi-Square Test\n",
    "table = pd.crosstab(df['ab_group'], df['purchase'] > 0)\n",
    "chi2, p, dof, expected = chi2_contingency(table)"
   ]
  },
  {
   "cell_type": "code",
   "execution_count": 7,
   "id": "b7497cf2-f1c0-4ee9-a753-fd116cf220d0",
   "metadata": {},
   "outputs": [
    {
     "name": "stdout",
     "output_type": "stream",
     "text": [
      "\n",
      "Chi-square p-value: 0.0037\n",
      "A/B test result is statistically significant.\n"
     ]
    }
   ],
   "source": [
    "print(f\"\\nChi-square p-value: {p:.4f}\")\n",
    "if p < 0.05:\n",
    "    print(\"A/B test result is statistically significant.\")\n",
    "else:\n",
    "    print(\"A/B test result is not significant.\")"
   ]
  },
  {
   "cell_type": "code",
   "execution_count": null,
   "id": "4e653575-2f62-434e-a172-476869373f26",
   "metadata": {},
   "outputs": [],
   "source": []
  }
 ],
 "metadata": {
  "kernelspec": {
   "display_name": "Python 3 (ipykernel)",
   "language": "python",
   "name": "python3"
  },
  "language_info": {
   "codemirror_mode": {
    "name": "ipython",
    "version": 3
   },
   "file_extension": ".py",
   "mimetype": "text/x-python",
   "name": "python",
   "nbconvert_exporter": "python",
   "pygments_lexer": "ipython3",
   "version": "3.12.7"
  }
 },
 "nbformat": 4,
 "nbformat_minor": 5
}
